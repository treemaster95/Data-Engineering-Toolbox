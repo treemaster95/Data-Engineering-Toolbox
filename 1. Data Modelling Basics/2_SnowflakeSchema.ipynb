{
 "cells": [
  {
   "cell_type": "markdown",
   "id": "74a4fbe4",
   "metadata": {},
   "source": [
    "\n",
    "# Snowflake Schema Explanation\n",
    "\n",
    "The Snowflake Schema is an extension of the Star Schema where dimension tables are normalized. In other words, the dimension data is divided into additional tables to eliminate redundancy and improve data integrity. This results in a structure that resembles a snowflake, hence the name.\n",
    "\n",
    "## Components of Snowflake Schema\n",
    "\n",
    "- **Fact Table**: Similar to the Star Schema, this is the central table in the Snowflake Schema containing quantitative metrics for analysis.\n",
    "- **Dimension Tables**: These are more normalized compared to the Star Schema. For example, a Product dimension table in a Star Schema might be split into separate Product and Category tables in the Snowflake Schema.\n",
    "- **Sub-Dimension Tables**: These tables are further normalizations of dimension tables, which might include hierarchies within the dimensions.\n",
    "\n",
    "Normalization reduces redundancy and can improve data integrity but might result in more complex queries due to the increased number of joins.\n",
    "    "
   ]
  },
  {
   "cell_type": "markdown",
   "id": "58cf17d9",
   "metadata": {},
   "source": [
    "\n",
    "## Snowflake Schema Example\n",
    "\n",
    "Consider an extension of the sales system used in the Star Schema example. In the Snowflake Schema, the `ProductDim` table is split into two tables: `Product` and `ProductCategory`, to normalize the data structure.\n",
    "\n",
    "- `Product` table now only contains product-related information.\n",
    "- `ProductCategory` table contains information about product categories.\n",
    "    "
   ]
  },
  {
   "cell_type": "code",
   "execution_count": null,
   "id": "4bfed376",
   "metadata": {},
   "outputs": [],
   "source": [
    "\n",
    "# SQL statements for creating a snowflake schema\n",
    "\n",
    "# Create Product Table (Normalized from ProductDim)\n",
    "product_sql = '''\n",
    "CREATE TABLE Product (\n",
    "    ProductKey INT PRIMARY KEY,\n",
    "    ProductID VARCHAR(50) NOT NULL,\n",
    "    ProductName VARCHAR(255) NOT NULL,\n",
    "    CategoryKey INT NOT NULL\n",
    ");\n",
    "'''\n",
    "\n",
    "# Create ProductCategory Table (Normalized from ProductDim)\n",
    "product_category_sql = '''\n",
    "CREATE TABLE ProductCategory (\n",
    "    CategoryKey INT PRIMARY KEY,\n",
    "    CategoryName VARCHAR(50)\n",
    ");\n",
    "'''\n",
    "\n",
    "# Adjusted Customer and Date Dimension Tables remain the same as in Star Schema\n",
    "\n",
    "# Adjusted Sales Fact Table (remains largely the same but references normalized Product table)\n",
    "sales_fact_snowflake_sql = '''\n",
    "CREATE TABLE SalesFact (\n",
    "    SalesKey INT PRIMARY KEY,\n",
    "    DateKey INT NOT NULL,\n",
    "    ProductKey INT NOT NULL,\n",
    "    CustomerKey INT NOT NULL,\n",
    "    QuantitySold INT NOT NULL,\n",
    "    TotalSaleAmount DECIMAL(10,2) NOT NULL,\n",
    "    FOREIGN KEY (DateKey) REFERENCES DateDim(DateKey),\n",
    "    FOREIGN KEY (ProductKey) REFERENCES Product(ProductKey),\n",
    "    FOREIGN KEY (CustomerKey) REFERENCES CustomerDim(CustomerKey)\n",
    ");\n",
    "'''\n",
    "\n",
    "# Print SQL for demonstration\n",
    "print(product_sql)\n",
    "print(product_category_sql)\n",
    "print(sales_fact_snowflake_sql)\n",
    "    "
   ]
  },
  {
   "cell_type": "markdown",
   "id": "5670a20c",
   "metadata": {},
   "source": [
    "\n",
    "## Insights from Snowflake Schema\n",
    "\n",
    "The Snowflake Schema can support the same types of analytical queries as the Star Schema, but with potentially more joins due to the normalized structure. This can be beneficial for queries that require a more detailed drill-down into dimension hierarchies.\n",
    "\n",
    "### Example Query\n",
    "\n",
    "Here's an example SQL query that finds total sales amount by product category for a given year, using the Snowflake Schema:\n",
    "\n",
    "\n",
    "\n",
    "This query involves an additional join to the `ProductCategory` table compared to a similar query in the Star Schema, due to the normalization of the product category information.\n",
    "    "
   ]
  },
  {
   "cell_type": "code",
   "execution_count": 1,
   "id": "574bd9e0",
   "metadata": {},
   "outputs": [
    {
     "ename": "SyntaxError",
     "evalue": "invalid syntax (2524800466.py, line 1)",
     "output_type": "error",
     "traceback": [
      "\u001b[1;36m  Cell \u001b[1;32mIn[1], line 1\u001b[1;36m\u001b[0m\n\u001b[1;33m    ```sql\u001b[0m\n\u001b[1;37m    ^\u001b[0m\n\u001b[1;31mSyntaxError\u001b[0m\u001b[1;31m:\u001b[0m invalid syntax\n"
     ]
    }
   ],
   "source": [
    "\n",
    "SELECT\n",
    "    pc.CategoryName,\n",
    "    SUM(sf.TotalSaleAmount) AS TotalSales\n",
    "FROM\n",
    "    SalesFact sf\n",
    "JOIN\n",
    "    DateDim dd ON sf.DateKey = dd.DateKey\n",
    "JOIN\n",
    "    Product p ON sf.ProductKey = p.ProductKey\n",
    "JOIN\n",
    "    ProductCategory pc ON p.CategoryKey = pc.CategoryKey\n",
    "WHERE\n",
    "    dd.Year = 2024\n",
    "GROUP BY\n",
    "    pc.CategoryName;\n",
    "```"
   ]
  },
  {
   "cell_type": "code",
   "execution_count": null,
   "id": "0cd98ab8",
   "metadata": {},
   "outputs": [],
   "source": []
  }
 ],
 "metadata": {
  "kernelspec": {
   "display_name": "Python 3 (ipykernel)",
   "language": "python",
   "name": "python3"
  },
  "language_info": {
   "codemirror_mode": {
    "name": "ipython",
    "version": 3
   },
   "file_extension": ".py",
   "mimetype": "text/x-python",
   "name": "python",
   "nbconvert_exporter": "python",
   "pygments_lexer": "ipython3",
   "version": "3.11.5"
  }
 },
 "nbformat": 4,
 "nbformat_minor": 5
}
