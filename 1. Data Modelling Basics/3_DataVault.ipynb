{
 "cells": [
  {
   "cell_type": "markdown",
   "id": "9a24c068",
   "metadata": {},
   "source": [
    "\n",
    "# Data Vault Schema Explanation\n",
    "\n",
    "The Data Vault modeling approach is designed to provide long-term historical storage of data coming from multiple operational systems. It is detail-oriented, highly scalable, and built to handle the complexities of big data and real-time data integration in a historically traceable and auditable manner.\n",
    "\n",
    "## Components of Data Vault Schema\n",
    "\n",
    "- **Hubs**: These tables store unique business keys, representing core business concepts (e.g., customers, products).\n",
    "- **Links**: These tables store associations or transactions between business keys, essentially capturing the relationships between Hubs.\n",
    "- **Satellites**: These tables store the descriptive attributes, context, and historical changes associated with the Hubs or Links.\n",
    "\n",
    "This model is highly flexible and allows for the easy addition of new sources and changes in business processes without disrupting existing models.\n",
    "    "
   ]
  },
  {
   "cell_type": "markdown",
   "id": "0acc6ddf",
   "metadata": {},
   "source": [
    "\n",
    "## Data Vault Schema Example\n",
    "\n",
    "In a Data Vault model for a sales system, you would have:\n",
    "\n",
    "- **Hubs** for core business entities like Customers (`HubCustomer`) and Products (`HubProduct`).\n",
    "- **Links** to represent transactions, such as a Sales Link (`LinkSales`) connecting customers, products, and dates.\n",
    "- **Satellites** to capture all the descriptive, changing details about these entities, like customer demographics (`SatCustomerDetails`) or product descriptions (`SatProductDetails`).\n",
    "    "
   ]
  },
  {
   "cell_type": "code",
   "execution_count": null,
   "id": "03afa453",
   "metadata": {},
   "outputs": [],
   "source": [
    "\n",
    "# SQL statements for creating a basic Data Vault schema\n",
    "\n",
    "# Create Hub for Customers\n",
    "hub_customer_sql = '''\n",
    "CREATE TABLE HubCustomer (\n",
    "    CustomerKey INT PRIMARY KEY,\n",
    "    CustomerBusinessKey VARCHAR(50) UNIQUE NOT NULL\n",
    ");\n",
    "'''\n",
    "\n",
    "# Create Hub for Products\n",
    "hub_product_sql = '''\n",
    "CREATE TABLE HubProduct (\n",
    "    ProductKey INT PRIMARY KEY,\n",
    "    ProductBusinessKey VARCHAR(50) UNIQUE NOT NULL\n",
    ");\n",
    "'''\n",
    "\n",
    "# Create Link for Sales\n",
    "link_sales_sql = '''\n",
    "CREATE TABLE LinkSales (\n",
    "    LinkSalesKey INT PRIMARY KEY,\n",
    "    CustomerKey INT NOT NULL,\n",
    "    ProductKey INT NOT NULL,\n",
    "    DateKey INT NOT NULL,\n",
    "    FOREIGN KEY (CustomerKey) REFERENCES HubCustomer(CustomerKey),\n",
    "    FOREIGN KEY (ProductKey) REFERENCES HubProduct(ProductKey)\n",
    ");\n",
    "'''\n",
    "\n",
    "# Create Satellite for Customer Details\n",
    "sat_customer_details_sql = '''\n",
    "CREATE TABLE SatCustomerDetails (\n",
    "    SatCustomerDetailsKey INT PRIMARY KEY,\n",
    "    CustomerKey INT NOT NULL,\n",
    "    FirstName VARCHAR(50),\n",
    "    LastName VARCHAR(50),\n",
    "    Email VARCHAR(100),\n",
    "    LoadDate TIMESTAMP NOT NULL,\n",
    "    RecordSource VARCHAR(50),\n",
    "    FOREIGN KEY (CustomerKey) REFERENCES HubCustomer(CustomerKey)\n",
    ");\n",
    "'''\n",
    "\n",
    "# Print SQL for demonstration\n",
    "print(hub_customer_sql)\n",
    "print(hub_product_sql)\n",
    "print(link_sales_sql)\n",
    "print(sat_customer_details_sql)\n",
    "    "
   ]
  },
  {
   "cell_type": "markdown",
   "id": "2d3f1967",
   "metadata": {},
   "source": [
    "\n",
    "## Insights from Data Vault Schema\n",
    "\n",
    "The Data Vault model excels in tracking historical data, source of record, and lineage, making it ideal for complex scenarios where auditing and traceability are crucial. Its structure supports incremental loads and is resilient to changes in source systems.\n",
    "\n",
    "### Example Query\n",
    "\n",
    "To query a Data Vault model for customer details and their sales records, you would need to join Hubs, Links, and Satellites, possibly involving complex joins and aggregations to reconstruct the business view from the normalized, historical data.\n",
    "    "
   ]
  }
 ],
 "metadata": {
  "kernelspec": {
   "display_name": "Python 3 (ipykernel)",
   "language": "python",
   "name": "python3"
  },
  "language_info": {
   "codemirror_mode": {
    "name": "ipython",
    "version": 3
   },
   "file_extension": ".py",
   "mimetype": "text/x-python",
   "name": "python",
   "nbconvert_exporter": "python",
   "pygments_lexer": "ipython3",
   "version": "3.11.5"
  }
 },
 "nbformat": 4,
 "nbformat_minor": 5
}
