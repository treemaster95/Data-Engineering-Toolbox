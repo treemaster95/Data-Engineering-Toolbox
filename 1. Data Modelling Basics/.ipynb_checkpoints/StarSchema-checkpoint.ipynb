{
 "cells": [
  {
   "cell_type": "markdown",
   "metadata": {},
   "source": [
    "Star Schema Example: Sales Data Model"
   ]
  },
  {
   "cell_type": "code",
   "execution_count": null,
   "metadata": {
    "vscode": {
     "languageId": "plaintext"
    }
   },
   "outputs": [],
   "source": [
    "-- Create Date Dimension Table\n",
    "CREATE TABLE DateDim (\n",
    "    DateKey INT PRIMARY KEY,\n",
    "    Date DATE NOT NULL,\n",
    "    Year SMALLINT NOT NULL,\n",
    "    Quarter SMALLINT NOT NULL,\n",
    "    Month SMALLINT NOT NULL,\n",
    "    Day SMALLINT NOT NULL,\n",
    "    WeekdayName VARCHAR(9)\n",
    ");\n",
    "\n",
    "-- Create Product Dimension Table\n",
    "CREATE TABLE ProductDim (\n",
    "    ProductKey INT PRIMARY KEY,\n",
    "    ProductID VARCHAR(50) NOT NULL,\n",
    "    ProductName VARCHAR(255) NOT NULL,\n",
    "    Category VARCHAR(50),\n",
    "    Price DECIMAL(10,2) NOT NULL\n",
    ");\n",
    "\n",
    "-- Create Customer Dimension Table\n",
    "CREATE TABLE CustomerDim (\n",
    "    CustomerKey INT PRIMARY KEY,\n",
    "    CustomerID VARCHAR(50) NOT NULL,\n",
    "    FirstName VARCHAR(50),\n",
    "    LastName VARCHAR(50),\n",
    "    Email VARCHAR(100),\n",
    "    PhoneNumber VARCHAR(20),\n",
    "    Address VARCHAR(255),\n",
    "    City VARCHAR(50),\n",
    "    State VARCHAR(50),\n",
    "        ZipCode VARCHAR(10)\n",
    ");\n",
    "\n",
    "-- Create Sales Fact Table\n",
    "CREATE TABLE SalesFact (\n",
    "    SalesKey INT PRIMARY KEY,\n",
    "    DateKey INT NOT NULL,\n",
    "    ProductKey INT NOT NULL,\n",
    "    CustomerKey INT NOT NULL,\n",
    "    QuantitySold INT NOT NULL,\n",
    "    TotalSaleAmount DECIMAL(10,2) NOT NULL,\n",
    "    FOREIGN KEY (DateKey) REFERENCES DateDim(DateKey),\n",
    "    FOREIGN KEY (ProductKey) REFERENCES ProductDim(ProductKey),\n",
    "    FOREIGN KEY (CustomerKey) REFERENCES CustomerDim(CustomerKey)\n",
    ");\n",
    "\n",
    "-- Sample Insert into Date Dimension\n",
    "INSERT INTO DateDim (DateKey, Date, Year, Quarter, Month, Day, WeekdayName)\n",
    "VALUES (20240101, '2024-01-01', 2024, 1, 1, 1, 'Wednesday');\n",
    "\n",
    "-- Sample Insert into Product Dimension\n",
    "INSERT INTO ProductDim (ProductKey, ProductID, ProductName, Category, Price)\n",
    "VALUES (1, 'P1001', 'Widget A', 'Widgets', 19.99);\n",
    "\n",
    "-- Sample Insert into Customer Dimension\n",
    "INSERT INTO CustomerDim (CustomerKey, CustomerID, FirstName, LastName, Email)\n",
    "VALUES (1, 'C1001', 'John', 'Doe', 'john.doe@example.com');\n",
    "\n",
    "-- Sample Insert into Sales Fact Table\n",
    "INSERT INTO SalesFact (SalesKey, DateKey, ProductKey, CustomerKey, QuantitySold, TotalSaleAmount)\n",
    "VALUES (1, 20240101, 1, 1, 2, 39.98);\n"
   ]
  },
  {
   "cell_type": "code",
   "execution_count": null,
   "metadata": {
    "vscode": {
     "languageId": "plaintext"
    }
   },
   "outputs": [],
   "source": []
  }
 ],
 "metadata": {
  "kernelspec": {
   "display_name": "Python 3 (ipykernel)",
   "language": "python",
   "name": "python3"
  },
  "language_info": {
   "codemirror_mode": {
    "name": "ipython",
    "version": 3
   },
   "file_extension": ".py",
   "mimetype": "text/x-python",
   "name": "python",
   "nbconvert_exporter": "python",
   "pygments_lexer": "ipython3",
   "version": "3.11.5"
  }
 },
 "nbformat": 4,
 "nbformat_minor": 2
}
